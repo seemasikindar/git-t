{
  "nbformat": 4,
  "nbformat_minor": 0,
  "metadata": {
    "colab": {
      "provenance": [],
      "authorship_tag": "ABX9TyMkJVPWz2Lc1pHL1sVGmZmj",
      "include_colab_link": true
    },
    "kernelspec": {
      "name": "python3",
      "display_name": "Python 3"
    },
    "language_info": {
      "name": "python"
    }
  },
  "cells": [
    {
      "cell_type": "markdown",
      "metadata": {
        "id": "view-in-github",
        "colab_type": "text"
      },
      "source": [
        "<a href=\"https://colab.research.google.com/github/seemasikindar/git-t/blob/master/pgms.ipynb\" target=\"_parent\"><img src=\"https://colab.research.google.com/assets/colab-badge.svg\" alt=\"Open In Colab\"/></a>"
      ]
    },
    {
      "cell_type": "code",
      "execution_count": null,
      "metadata": {
        "colab": {
          "base_uri": "https://localhost:8080/"
        },
        "id": "4UmMW3n6kVbK",
        "outputId": "30aeb5e1-a8d4-4385-8e96-e83336954742"
      },
      "outputs": [
        {
          "output_type": "stream",
          "name": "stdout",
          "text": [
            "Enter a number: 25\n",
            "*************************\n",
            "*                       *\n",
            "*                       *\n",
            "*                       *\n",
            "*                       *\n",
            "*                       *\n",
            "*                       *\n",
            "*                       *\n",
            "*                       *\n",
            "*                       *\n",
            "*                       *\n",
            "*                       *\n",
            "*                       *\n",
            "*                       *\n",
            "*                       *\n",
            "*                       *\n",
            "*                       *\n",
            "*                       *\n",
            "*                       *\n",
            "*                       *\n",
            "*                       *\n",
            "*                       *\n",
            "*                       *\n",
            "*                       *\n",
            "*************************\n"
          ]
        }
      ],
      "source": [
        "def print_shallow_square(n):\n",
        "    if n < 2:\n",
        "        print(\"The size of the square must be at least 2.\")\n",
        "        return\n",
        "\n",
        "    # Print the top row\n",
        "    print('*' * n)\n",
        "\n",
        "    # Print the middle rows\n",
        "    for _ in range(n - 2):\n",
        "        print('*' + ' ' * (n - 2) + '*')\n",
        "\n",
        "    # Print the bottom row\n",
        "    print('*' * n)\n",
        "\n",
        "# Example usage\n",
        "n = int(input(\"Enter a number: \"))\n",
        "print_shallow_square(n)\n"
      ]
    },
    {
      "cell_type": "code",
      "source": [
        "from collections import Counter\n",
        "import re\n",
        "\n",
        "def top_5_repeating_letters(multiline_string):\n",
        "    # Remove all non-letter characters and convert to lowercase\n",
        "    cleaned_string = re.sub(r'[^a-zA-Z]', '', multiline_string).lower()\n",
        "\n",
        "    # Count the frequency of each letter\n",
        "    letter_counts = Counter(cleaned_string)\n",
        "\n",
        "    # Get the top 5 most common letters\n",
        "    top_5 = letter_counts.most_common(5)\n",
        "\n",
        "    # Print the results\n",
        "    for letter, count in top_5:\n",
        "        print(f\"{letter}: {count}\")\n",
        "\n",
        "# Example usage\n",
        "multiline_string = \"\"\"\n",
        "This is an example of a multiline string.\n",
        "It contains several letters, some of which repeat more frequently.\n",
        "Let's find out the top 5 most frequent letters!\n",
        "\"\"\"\n",
        "top_5_repeating_letters(multiline_string)\n"
      ],
      "metadata": {
        "colab": {
          "base_uri": "https://localhost:8080/"
        },
        "id": "lSlbPlWOkX-y",
        "outputId": "c9b7b47b-805a-40c7-8681-18ec3a447c35"
      },
      "execution_count": null,
      "outputs": [
        {
          "output_type": "stream",
          "name": "stdout",
          "text": [
            "e: 19\n",
            "t: 17\n",
            "s: 10\n",
            "i: 9\n",
            "n: 8\n"
          ]
        }
      ]
    },
    {
      "cell_type": "code",
      "source": [
        "#UNIQUE ID\n",
        "import re\n",
        "\n",
        "def unique_id_no():\n",
        "    T = int(input())\n",
        "    pattern = re.compile(\"[A-Za-z0-9]+$\")\n",
        "\n",
        "    for _ in range(T):\n",
        "        s = input().strip()\n",
        "\n",
        "        if len(s) != 10:\n",
        "            print(\"Invalid\")\n",
        "            continue\n",
        "\n",
        "        if len(set(s)) != len(s):\n",
        "            print(\"Invalid\")\n",
        "            continue\n",
        "\n",
        "        if pattern.fullmatch(s) is None:\n",
        "            print(\"Invalid\")\n",
        "            continue\n",
        "\n",
        "        capital_letters = sum(1 for c in s if c.isupper())\n",
        "        digits = sum(1 for c in s if c.isdigit())\n",
        "\n",
        "        if capital_letters < 2:\n",
        "            print(\"Invalid\")\n",
        "            continue\n",
        "\n",
        "        if digits < 3:\n",
        "            print(\"Invalid\")\n",
        "            continue\n",
        "\n",
        "        print(\"Valid\")\n",
        "\n",
        "unique_id_no()"
      ],
      "metadata": {
        "colab": {
          "base_uri": "https://localhost:8080/"
        },
        "id": "kOODZ6lIB5U7",
        "outputId": "fe965069-d56f-4f00-ed1b-14157d23401b"
      },
      "execution_count": 14,
      "outputs": [
        {
          "output_type": "stream",
          "name": "stdout",
          "text": [
            "3\n",
            "UIEDRF675R\n",
            "Invalid\n",
            "UNIHGTR456\n",
            "Valid\n",
            "UNIGT6543\n",
            "Invalid\n"
          ]
        }
      ]
    },
    {
      "cell_type": "code",
      "source": [
        "\n",
        "def bubble_sort(arr):\n",
        "    n = len(arr)\n",
        "    # Traverse through all array elements\n",
        "    for i in range(n):\n",
        "        # Last i elements are already sorted\n",
        "        for j in range(0, n-i-1):\n",
        "            # Traverse the array from 0 to n-i-1\n",
        "            # Swap if the element found is greater\n",
        "            # than the next element\n",
        "            if arr[j] > arr[j+1]:\n",
        "                arr[j], arr[j+1] = arr[j+1], arr[j]\n",
        "\n",
        "# Example usage:\n",
        "arr = [64, 34, 25, 12, 22, 11, 90]\n",
        "print(\"Original array:\", arr)\n",
        "bubble_sort(arr)\n",
        "print(\"Sorted array:\", arr)\n"
      ],
      "metadata": {
        "colab": {
          "base_uri": "https://localhost:8080/"
        },
        "id": "Z-FNxcV7InuP",
        "outputId": "6a9801e8-bd46-40c2-aefd-66b17b16099a"
      },
      "execution_count": 15,
      "outputs": [
        {
          "output_type": "stream",
          "name": "stdout",
          "text": [
            "Original array: [64, 34, 25, 12, 22, 11, 90]\n",
            "Sorted array: [11, 12, 22, 25, 34, 64, 90]\n"
          ]
        }
      ]
    },
    {
      "cell_type": "code",
      "source": [
        "def count_vowels_and_consonants(s):\n",
        "    vowels = \"aeiouAEIOU\"\n",
        "    num_vowels = 0\n",
        "    num_consonants = 0\n",
        "\n",
        "    for char in s:\n",
        "        if char.isalpha():  # Check if the character is a letter\n",
        "            if char in vowels:\n",
        "                num_vowels += 1\n",
        "            else:\n",
        "                num_consonants += 1\n",
        "\n",
        "    return num_vowels, num_consonants\n",
        "\n",
        "# Example usage:\n",
        "input_string = \"Hello, World!\"\n",
        "vowels, consonants = count_vowels_and_consonants(input_string)\n",
        "print(\"Number of vowels:\", vowels)\n",
        "print(\"Number of consonants:\", consonants)\n"
      ],
      "metadata": {
        "colab": {
          "base_uri": "https://localhost:8080/"
        },
        "id": "3DDV8nrYgeJi",
        "outputId": "57f5611a-9169-4f40-c9b4-e80f4dd0b485"
      },
      "execution_count": 17,
      "outputs": [
        {
          "output_type": "stream",
          "name": "stdout",
          "text": [
            "Number of vowels: 3\n",
            "Number of consonants: 7\n"
          ]
        }
      ]
    },
    {
      "cell_type": "code",
      "source": [
        "def max_product_of_two_elements(lst):\n",
        "    if len(lst) < 2:\n",
        "        print(\"List must contain at least two elements\")\n",
        "        return\n",
        "\n",
        "    # Initialize the maximum and second maximum elements\n",
        "    max1 = max(lst[0], lst[1])\n",
        "    max2 = min(lst[0], lst[1])\n",
        "\n",
        "    # Traverse through the list starting from the second element\n",
        "    for i in range(2, len(lst)):\n",
        "        if lst[i] > max1:\n",
        "            max2 = max1\n",
        "            max1 = lst[i]\n",
        "        elif lst[i] > max2:\n",
        "            max2 = lst[i]\n",
        "\n",
        "    max_product = max1 * max2\n",
        "    print(\"The maximum product of two elements is:\", max_product)\n",
        "\n",
        "# Example usage:\n",
        "lst = [1, 20, 3, 10, 5]\n",
        "max_product_of_two_elements(lst)\n"
      ],
      "metadata": {
        "colab": {
          "base_uri": "https://localhost:8080/"
        },
        "id": "dOgt_DuAgs3d",
        "outputId": "08934440-3622-4182-85ce-8aaef765d358"
      },
      "execution_count": 18,
      "outputs": [
        {
          "output_type": "stream",
          "name": "stdout",
          "text": [
            "The maximum product of two elements is: 200\n"
          ]
        }
      ]
    }
  ]
}